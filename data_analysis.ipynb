{
 "cells": [
  {
   "cell_type": "markdown",
   "metadata": {},
   "source": [
    "# Maternal Health Risk Prediction"
   ]
  },
  {
   "cell_type": "markdown",
   "metadata": {},
   "source": [
    "### A Comparative Study of Machine Learning Model Performance"
   ]
  },
  {
   "cell_type": "markdown",
   "metadata": {},
   "source": [
    "---"
   ]
  },
  {
   "cell_type": "markdown",
   "metadata": {},
   "source": [
    "## Summary"
   ]
  },
  {
   "cell_type": "markdown",
   "metadata": {},
   "source": [
    "This project aims to use machine learning to predict maternal health risk based on key physiological factors by comparing the performances between two models. Maternal health are a major concern in healthcare. Hence, early risk assessment is crucial for the welfare of both the mother and child. By leveraging structured data from the Maternal Health Risk Dataset, we trained and evaluated machine learning models to classify maternal health risk levels into three different classes: low, mid, and high risk.\n",
    "\n",
    "The dataset contains 1,014 records with features such as age, blood pressures, blood sugar levels, body temperature and heart rate. Our goal will be to determine whether machine learning algorithms could accurately predict risk levels based on these physiological markers. We will first conduct an exploratory data analysis before building any of the models. Once we have trained the models, they will be evaluated through classification metrics such as precision, recall, F1-score, and AUC-ROC."
   ]
  },
  {
   "cell_type": "markdown",
   "metadata": {},
   "source": [
    "---"
   ]
  },
  {
   "cell_type": "markdown",
   "metadata": {},
   "source": [
    "## Introduction\n"
   ]
  },
  {
   "cell_type": "markdown",
   "metadata": {},
   "source": [
    "Maternal health can be defined as \"the health condition of women during preganancy, childbirth, and the postnatal period (WHO, 2025). This is a critical area of healthcare, as complications during preganancy and childbirth can lead to severe consequences for both mothers and newborns. According to the World Health Organization (2024), around 800 women died each day in 2020 due to preventable causes related to maternal health, further emphasizing the need for risk assessment measures. \n",
    "\n",
    "Historically, risk assessment have been carried out by medical professionals that relied heavily on clinical expertise and constant monitoring. However, traditional approaches to monitoring basic physiological indicators often lacked efficiency in identifying potential complications (Mu et al., 2023). Since the boom of machine learning (ML), many members of the academe have explored the use of ML in maternal health risk prediction, offering data-driven approaches to enhance early detection and intervention to offload the burden on overworked medical professionals (Mu et al., 2023; Ukrit et al., 2024; Bajaj et al., 2023).\n",
    "\n",
    "To contribute to this discourse, this research aims to conduct a comparative study on the performance of two ML techniques in predicting maternal health risk, assessing each model's reliability in identifying risk levels.\n",
    "\n",
    "The analysis will utilize the [Maternal Health Risk](https://archive.ics.uci.edu/dataset/863/maternal+health+risk) dataset sourced from the UC Irvine Machine Learning Repository. Consisting of 1014 observations, this dataset includes the following 7 features:\n",
    "\n",
    "- `Age`: Age of the patient (in years).\n",
    "- `SystolicBP`: Systolic Blood Pressure (mmHg).\n",
    "- `DiastolicBP`: Diastolic Blood Pressure (mmHg).\n",
    "- `BS (Blood Sugar Level)`: Blood sugar concentration (mmol/L).\n",
    "- `BodyTemp`: Body temperature (°F).\n",
    "- `HeartRate`: Heart rate (beats per minute).\n",
    "- `RiskLevel`: The target variable, categorized into low risk, mid risk, and high risk."
   ]
  },
  {
   "cell_type": "markdown",
   "metadata": {},
   "source": [
    "---"
   ]
  },
  {
   "cell_type": "markdown",
   "metadata": {},
   "source": [
    "## Methods\n"
   ]
  },
  {
   "cell_type": "markdown",
   "metadata": {},
   "source": [
    "For this analysis, the data will first be loaded into the notebook then cleaned to handle any possible missing values and ensure its usability for the various models. Following the data cleaning stabe will be an exploratory data analysis (EDA) to gain a comprehensive view of the data. This step will include visualizing the summary statistics, distributions, and correlations between variables to determine any patterns in the data prior to the model development.\n",
    "\n",
    "This study will implement 2 ML classification models:\n",
    "1. Logistic Regression\n",
    "2. Random Forest\n",
    "\n",
    "Each model will be evaluated using various metrics such as accuracy, precision, recall, F1-score, and AUC-ROC to compare their relative performance in maternal health risk prediction. "
   ]
  },
  {
   "cell_type": "markdown",
   "metadata": {},
   "source": [
    "### Importing Relevant Libraries"
   ]
  },
  {
   "cell_type": "code",
   "execution_count": 81,
   "metadata": {
    "vscode": {
     "languageId": "r"
    }
   },
   "outputs": [],
   "source": [
    "library(tidyverse)\n",
    "library(corrplot)\n",
    "library(nnet)\n",
    "library(caret)\n",
    "library(randomForest)"
   ]
  },
  {
   "cell_type": "markdown",
   "metadata": {},
   "source": [
    "### Reading the Data\n",
    "The [dataset](https://archive.ics.uci.edu/dataset/863/maternal+health+risk) was downloaded from the UC Irvine Machine Learning Repository and uploaded to the project's repository from which it is read for the analysis."
   ]
  },
  {
   "cell_type": "code",
   "execution_count": 82,
   "metadata": {
    "vscode": {
     "languageId": "r"
    }
   },
   "outputs": [
    {
     "name": "stderr",
     "output_type": "stream",
     "text": [
      "\u001b[1mRows: \u001b[22m\u001b[34m1014\u001b[39m \u001b[1mColumns: \u001b[22m\u001b[34m7\u001b[39m\n",
      "\u001b[36m──\u001b[39m \u001b[1mColumn specification\u001b[22m \u001b[36m────────────────────────────────────────────────────────\u001b[39m\n",
      "\u001b[1mDelimiter:\u001b[22m \",\"\n",
      "\u001b[31mchr\u001b[39m (1): RiskLevel\n",
      "\u001b[32mdbl\u001b[39m (6): Age, SystolicBP, DiastolicBP, BS, BodyTemp, HeartRate\n",
      "\n",
      "\u001b[36mℹ\u001b[39m Use `spec()` to retrieve the full column specification for this data.\n",
      "\u001b[36mℹ\u001b[39m Specify the column types or set `show_col_types = FALSE` to quiet this message.\n"
     ]
    },
    {
     "name": "stdout",
     "output_type": "stream",
     "text": [
      "\n",
      "\u001b[1mTable 1: Sample of Raw Data\u001b[0m\n",
      "\n"
     ]
    },
    {
     "data": {
      "text/html": [
       "<table class=\"dataframe\">\n",
       "<caption>A tibble: 6 × 7</caption>\n",
       "<thead>\n",
       "\t<tr><th scope=col>Age</th><th scope=col>SystolicBP</th><th scope=col>DiastolicBP</th><th scope=col>BS</th><th scope=col>BodyTemp</th><th scope=col>HeartRate</th><th scope=col>RiskLevel</th></tr>\n",
       "\t<tr><th scope=col>&lt;dbl&gt;</th><th scope=col>&lt;dbl&gt;</th><th scope=col>&lt;dbl&gt;</th><th scope=col>&lt;dbl&gt;</th><th scope=col>&lt;dbl&gt;</th><th scope=col>&lt;dbl&gt;</th><th scope=col>&lt;chr&gt;</th></tr>\n",
       "</thead>\n",
       "<tbody>\n",
       "\t<tr><td>25</td><td>130</td><td>80</td><td>15.00</td><td> 98</td><td>86</td><td>high risk</td></tr>\n",
       "\t<tr><td>35</td><td>140</td><td>90</td><td>13.00</td><td> 98</td><td>70</td><td>high risk</td></tr>\n",
       "\t<tr><td>29</td><td> 90</td><td>70</td><td> 8.00</td><td>100</td><td>80</td><td>high risk</td></tr>\n",
       "\t<tr><td>30</td><td>140</td><td>85</td><td> 7.00</td><td> 98</td><td>70</td><td>high risk</td></tr>\n",
       "\t<tr><td>35</td><td>120</td><td>60</td><td> 6.10</td><td> 98</td><td>76</td><td>low risk </td></tr>\n",
       "\t<tr><td>23</td><td>140</td><td>80</td><td> 7.01</td><td> 98</td><td>70</td><td>high risk</td></tr>\n",
       "</tbody>\n",
       "</table>\n"
      ],
      "text/latex": [
       "A tibble: 6 × 7\n",
       "\\begin{tabular}{lllllll}\n",
       " Age & SystolicBP & DiastolicBP & BS & BodyTemp & HeartRate & RiskLevel\\\\\n",
       " <dbl> & <dbl> & <dbl> & <dbl> & <dbl> & <dbl> & <chr>\\\\\n",
       "\\hline\n",
       "\t 25 & 130 & 80 & 15.00 &  98 & 86 & high risk\\\\\n",
       "\t 35 & 140 & 90 & 13.00 &  98 & 70 & high risk\\\\\n",
       "\t 29 &  90 & 70 &  8.00 & 100 & 80 & high risk\\\\\n",
       "\t 30 & 140 & 85 &  7.00 &  98 & 70 & high risk\\\\\n",
       "\t 35 & 120 & 60 &  6.10 &  98 & 76 & low risk \\\\\n",
       "\t 23 & 140 & 80 &  7.01 &  98 & 70 & high risk\\\\\n",
       "\\end{tabular}\n"
      ],
      "text/markdown": [
       "\n",
       "A tibble: 6 × 7\n",
       "\n",
       "| Age &lt;dbl&gt; | SystolicBP &lt;dbl&gt; | DiastolicBP &lt;dbl&gt; | BS &lt;dbl&gt; | BodyTemp &lt;dbl&gt; | HeartRate &lt;dbl&gt; | RiskLevel &lt;chr&gt; |\n",
       "|---|---|---|---|---|---|---|\n",
       "| 25 | 130 | 80 | 15.00 |  98 | 86 | high risk |\n",
       "| 35 | 140 | 90 | 13.00 |  98 | 70 | high risk |\n",
       "| 29 |  90 | 70 |  8.00 | 100 | 80 | high risk |\n",
       "| 30 | 140 | 85 |  7.00 |  98 | 70 | high risk |\n",
       "| 35 | 120 | 60 |  6.10 |  98 | 76 | low risk  |\n",
       "| 23 | 140 | 80 |  7.01 |  98 | 70 | high risk |\n",
       "\n"
      ],
      "text/plain": [
       "  Age SystolicBP DiastolicBP BS    BodyTemp HeartRate RiskLevel\n",
       "1 25  130        80          15.00  98      86        high risk\n",
       "2 35  140        90          13.00  98      70        high risk\n",
       "3 29   90        70           8.00 100      80        high risk\n",
       "4 30  140        85           7.00  98      70        high risk\n",
       "5 35  120        60           6.10  98      76        low risk \n",
       "6 23  140        80           7.01  98      70        high risk"
      ]
     },
     "metadata": {},
     "output_type": "display_data"
    }
   ],
   "source": [
    "data <- read_csv(\"data/Maternal Health Risk Data Set.csv\")\n",
    "\n",
    "cat(\"\\n\\033[1mTable 1: Sample of Raw Data\\033[0m\\n\\n\")\n",
    "head(data)\n"
   ]
  },
  {
   "cell_type": "markdown",
   "metadata": {},
   "source": [
    "### Wrangling and Cleaning the Data\n",
    "From the cell below, we find that there are no NA or null values in our dataset."
   ]
  },
  {
   "cell_type": "code",
   "execution_count": 83,
   "metadata": {
    "vscode": {
     "languageId": "r"
    }
   },
   "outputs": [
    {
     "data": {
      "text/html": [
       "<table class=\"dataframe\">\n",
       "<caption>A tibble: 7 × 2</caption>\n",
       "<thead>\n",
       "\t<tr><th scope=col>feature</th><th scope=col>na</th></tr>\n",
       "\t<tr><th scope=col>&lt;chr&gt;</th><th scope=col>&lt;dbl&gt;</th></tr>\n",
       "</thead>\n",
       "<tbody>\n",
       "\t<tr><td>Age        </td><td>0</td></tr>\n",
       "\t<tr><td>SystolicBP </td><td>0</td></tr>\n",
       "\t<tr><td>DiastolicBP</td><td>0</td></tr>\n",
       "\t<tr><td>BS         </td><td>0</td></tr>\n",
       "\t<tr><td>BodyTemp   </td><td>0</td></tr>\n",
       "\t<tr><td>HeartRate  </td><td>0</td></tr>\n",
       "\t<tr><td>RiskLevel  </td><td>0</td></tr>\n",
       "</tbody>\n",
       "</table>\n"
      ],
      "text/latex": [
       "A tibble: 7 × 2\n",
       "\\begin{tabular}{ll}\n",
       " feature & na\\\\\n",
       " <chr> & <dbl>\\\\\n",
       "\\hline\n",
       "\t Age         & 0\\\\\n",
       "\t SystolicBP  & 0\\\\\n",
       "\t DiastolicBP & 0\\\\\n",
       "\t BS          & 0\\\\\n",
       "\t BodyTemp    & 0\\\\\n",
       "\t HeartRate   & 0\\\\\n",
       "\t RiskLevel   & 0\\\\\n",
       "\\end{tabular}\n"
      ],
      "text/markdown": [
       "\n",
       "A tibble: 7 × 2\n",
       "\n",
       "| feature &lt;chr&gt; | na &lt;dbl&gt; |\n",
       "|---|---|\n",
       "| Age         | 0 |\n",
       "| SystolicBP  | 0 |\n",
       "| DiastolicBP | 0 |\n",
       "| BS          | 0 |\n",
       "| BodyTemp    | 0 |\n",
       "| HeartRate   | 0 |\n",
       "| RiskLevel   | 0 |\n",
       "\n"
      ],
      "text/plain": [
       "  feature     na\n",
       "1 Age         0 \n",
       "2 SystolicBP  0 \n",
       "3 DiastolicBP 0 \n",
       "4 BS          0 \n",
       "5 BodyTemp    0 \n",
       "6 HeartRate   0 \n",
       "7 RiskLevel   0 "
      ]
     },
     "metadata": {},
     "output_type": "display_data"
    }
   ],
   "source": [
    "tibble(feature = names(data), na = colSums(is.na(data)))"
   ]
  },
  {
   "cell_type": "markdown",
   "metadata": {},
   "source": [
    "The code below shows that the features `Age`, `SystolicBP`, `DiastolicBP`, `BS`, `BodyTemp`, and `HeartRate` are numeric variables, while `RiskLevel` is currently a character variable. Moreover, there are three categories under `RiskLevel`: high risk, mid risk, and low risk"
   ]
  },
  {
   "cell_type": "code",
   "execution_count": 84,
   "metadata": {
    "vscode": {
     "languageId": "r"
    }
   },
   "outputs": [
    {
     "name": "stdout",
     "output_type": "stream",
     "text": [
      "spc_tbl_ [1,014 × 7] (S3: spec_tbl_df/tbl_df/tbl/data.frame)\n",
      " $ Age        : num [1:1014] 25 35 29 30 35 23 23 35 32 42 ...\n",
      " $ SystolicBP : num [1:1014] 130 140 90 140 120 140 130 85 120 130 ...\n",
      " $ DiastolicBP: num [1:1014] 80 90 70 85 60 80 70 60 90 80 ...\n",
      " $ BS         : num [1:1014] 15 13 8 7 6.1 7.01 7.01 11 6.9 18 ...\n",
      " $ BodyTemp   : num [1:1014] 98 98 100 98 98 98 98 102 98 98 ...\n",
      " $ HeartRate  : num [1:1014] 86 70 80 70 76 70 78 86 70 70 ...\n",
      " $ RiskLevel  : chr [1:1014] \"high risk\" \"high risk\" \"high risk\" \"high risk\" ...\n",
      " - attr(*, \"spec\")=\n",
      "  .. cols(\n",
      "  ..   Age = \u001b[32mcol_double()\u001b[39m,\n",
      "  ..   SystolicBP = \u001b[32mcol_double()\u001b[39m,\n",
      "  ..   DiastolicBP = \u001b[32mcol_double()\u001b[39m,\n",
      "  ..   BS = \u001b[32mcol_double()\u001b[39m,\n",
      "  ..   BodyTemp = \u001b[32mcol_double()\u001b[39m,\n",
      "  ..   HeartRate = \u001b[32mcol_double()\u001b[39m,\n",
      "  ..   RiskLevel = \u001b[31mcol_character()\u001b[39m\n",
      "  .. )\n",
      " - attr(*, \"problems\")=<externalptr> \n"
     ]
    },
    {
     "data": {
      "text/html": [
       "<table class=\"dataframe\">\n",
       "<caption>A tibble: 3 × 1</caption>\n",
       "<thead>\n",
       "\t<tr><th scope=col>RiskLevel</th></tr>\n",
       "\t<tr><th scope=col>&lt;chr&gt;</th></tr>\n",
       "</thead>\n",
       "<tbody>\n",
       "\t<tr><td>high risk</td></tr>\n",
       "\t<tr><td>low risk </td></tr>\n",
       "\t<tr><td>mid risk </td></tr>\n",
       "</tbody>\n",
       "</table>\n"
      ],
      "text/latex": [
       "A tibble: 3 × 1\n",
       "\\begin{tabular}{l}\n",
       " RiskLevel\\\\\n",
       " <chr>\\\\\n",
       "\\hline\n",
       "\t high risk\\\\\n",
       "\t low risk \\\\\n",
       "\t mid risk \\\\\n",
       "\\end{tabular}\n"
      ],
      "text/markdown": [
       "\n",
       "A tibble: 3 × 1\n",
       "\n",
       "| RiskLevel &lt;chr&gt; |\n",
       "|---|\n",
       "| high risk |\n",
       "| low risk  |\n",
       "| mid risk  |\n",
       "\n"
      ],
      "text/plain": [
       "  RiskLevel\n",
       "1 high risk\n",
       "2 low risk \n",
       "3 mid risk "
      ]
     },
     "metadata": {},
     "output_type": "display_data"
    }
   ],
   "source": [
    "str(data)\n",
    "data %>% distinct(RiskLevel)"
   ]
  },
  {
   "cell_type": "markdown",
   "metadata": {},
   "source": [
    "Given the three distinct categories under the target feature, we will modify `RiskLevel` to a factor variable to appropriately reflect its categorical nature in further analysis. "
   ]
  },
  {
   "cell_type": "code",
   "execution_count": 85,
   "metadata": {
    "vscode": {
     "languageId": "r"
    }
   },
   "outputs": [
    {
     "name": "stdout",
     "output_type": "stream",
     "text": [
      "\n",
      "\u001b[1mTable 2: Sample of Clean Data\u001b[0m\n",
      "\n"
     ]
    },
    {
     "data": {
      "text/html": [
       "<table class=\"dataframe\">\n",
       "<caption>A tibble: 6 × 7</caption>\n",
       "<thead>\n",
       "\t<tr><th scope=col>Age</th><th scope=col>SystolicBP</th><th scope=col>DiastolicBP</th><th scope=col>BS</th><th scope=col>BodyTemp</th><th scope=col>HeartRate</th><th scope=col>RiskLevel</th></tr>\n",
       "\t<tr><th scope=col>&lt;dbl&gt;</th><th scope=col>&lt;dbl&gt;</th><th scope=col>&lt;dbl&gt;</th><th scope=col>&lt;dbl&gt;</th><th scope=col>&lt;dbl&gt;</th><th scope=col>&lt;dbl&gt;</th><th scope=col>&lt;fct&gt;</th></tr>\n",
       "</thead>\n",
       "<tbody>\n",
       "\t<tr><td>25</td><td>130</td><td>80</td><td>15.00</td><td> 98</td><td>86</td><td>high risk</td></tr>\n",
       "\t<tr><td>35</td><td>140</td><td>90</td><td>13.00</td><td> 98</td><td>70</td><td>high risk</td></tr>\n",
       "\t<tr><td>29</td><td> 90</td><td>70</td><td> 8.00</td><td>100</td><td>80</td><td>high risk</td></tr>\n",
       "\t<tr><td>30</td><td>140</td><td>85</td><td> 7.00</td><td> 98</td><td>70</td><td>high risk</td></tr>\n",
       "\t<tr><td>35</td><td>120</td><td>60</td><td> 6.10</td><td> 98</td><td>76</td><td>low risk </td></tr>\n",
       "\t<tr><td>23</td><td>140</td><td>80</td><td> 7.01</td><td> 98</td><td>70</td><td>high risk</td></tr>\n",
       "</tbody>\n",
       "</table>\n"
      ],
      "text/latex": [
       "A tibble: 6 × 7\n",
       "\\begin{tabular}{lllllll}\n",
       " Age & SystolicBP & DiastolicBP & BS & BodyTemp & HeartRate & RiskLevel\\\\\n",
       " <dbl> & <dbl> & <dbl> & <dbl> & <dbl> & <dbl> & <fct>\\\\\n",
       "\\hline\n",
       "\t 25 & 130 & 80 & 15.00 &  98 & 86 & high risk\\\\\n",
       "\t 35 & 140 & 90 & 13.00 &  98 & 70 & high risk\\\\\n",
       "\t 29 &  90 & 70 &  8.00 & 100 & 80 & high risk\\\\\n",
       "\t 30 & 140 & 85 &  7.00 &  98 & 70 & high risk\\\\\n",
       "\t 35 & 120 & 60 &  6.10 &  98 & 76 & low risk \\\\\n",
       "\t 23 & 140 & 80 &  7.01 &  98 & 70 & high risk\\\\\n",
       "\\end{tabular}\n"
      ],
      "text/markdown": [
       "\n",
       "A tibble: 6 × 7\n",
       "\n",
       "| Age &lt;dbl&gt; | SystolicBP &lt;dbl&gt; | DiastolicBP &lt;dbl&gt; | BS &lt;dbl&gt; | BodyTemp &lt;dbl&gt; | HeartRate &lt;dbl&gt; | RiskLevel &lt;fct&gt; |\n",
       "|---|---|---|---|---|---|---|\n",
       "| 25 | 130 | 80 | 15.00 |  98 | 86 | high risk |\n",
       "| 35 | 140 | 90 | 13.00 |  98 | 70 | high risk |\n",
       "| 29 |  90 | 70 |  8.00 | 100 | 80 | high risk |\n",
       "| 30 | 140 | 85 |  7.00 |  98 | 70 | high risk |\n",
       "| 35 | 120 | 60 |  6.10 |  98 | 76 | low risk  |\n",
       "| 23 | 140 | 80 |  7.01 |  98 | 70 | high risk |\n",
       "\n"
      ],
      "text/plain": [
       "  Age SystolicBP DiastolicBP BS    BodyTemp HeartRate RiskLevel\n",
       "1 25  130        80          15.00  98      86        high risk\n",
       "2 35  140        90          13.00  98      70        high risk\n",
       "3 29   90        70           8.00 100      80        high risk\n",
       "4 30  140        85           7.00  98      70        high risk\n",
       "5 35  120        60           6.10  98      76        low risk \n",
       "6 23  140        80           7.01  98      70        high risk"
      ]
     },
     "metadata": {},
     "output_type": "display_data"
    }
   ],
   "source": [
    "data_clean <- data %>% \n",
    "    mutate(RiskLevel = factor(RiskLevel, levels = c(\"low risk\", \"mid risk\", \"high risk\")))\n",
    "\n",
    "cat(\"\\n\\033[1mTable 2: Sample of Clean Data\\033[0m\\n\\n\")\n",
    "\n",
    "head(data_clean)"
   ]
  },
  {
   "cell_type": "markdown",
   "metadata": {},
   "source": [
    "### EDA"
   ]
  },
  {
   "cell_type": "markdown",
   "metadata": {},
   "source": [
    "#### Summary Statistics"
   ]
  },
  {
   "cell_type": "code",
   "execution_count": 86,
   "metadata": {
    "vscode": {
     "languageId": "r"
    }
   },
   "outputs": [
    {
     "data": {
      "text/plain": [
       "      Age          SystolicBP     DiastolicBP           BS        \n",
       " Min.   :10.00   Min.   : 70.0   Min.   : 49.00   Min.   : 6.000  \n",
       " 1st Qu.:19.00   1st Qu.:100.0   1st Qu.: 65.00   1st Qu.: 6.900  \n",
       " Median :26.00   Median :120.0   Median : 80.00   Median : 7.500  \n",
       " Mean   :29.87   Mean   :113.2   Mean   : 76.46   Mean   : 8.726  \n",
       " 3rd Qu.:39.00   3rd Qu.:120.0   3rd Qu.: 90.00   3rd Qu.: 8.000  \n",
       " Max.   :70.00   Max.   :160.0   Max.   :100.00   Max.   :19.000  \n",
       "    BodyTemp        HeartRate        RiskLevel  \n",
       " Min.   : 98.00   Min.   : 7.0   low risk :406  \n",
       " 1st Qu.: 98.00   1st Qu.:70.0   mid risk :336  \n",
       " Median : 98.00   Median :76.0   high risk:272  \n",
       " Mean   : 98.67   Mean   :74.3                  \n",
       " 3rd Qu.: 98.00   3rd Qu.:80.0                  \n",
       " Max.   :103.00   Max.   :90.0                  "
      ]
     },
     "metadata": {},
     "output_type": "display_data"
    }
   ],
   "source": [
    "summary(data_clean)"
   ]
  },
  {
   "cell_type": "markdown",
   "metadata": {},
   "source": [
    "#### Distributions"
   ]
  },
  {
   "cell_type": "markdown",
   "metadata": {},
   "source": [
    "Since age is an important factor in maternal health, we visualize the age distribution by risk level. From the visualization, high risk individuals have a higher median age around 35 years old. Additionally, the interquartile range indicates that the high risk group has more variation in age. We observe some outliers in the low and mid risk groups. Based on the visualization, older aged individuals seem more associated with maternal health risks. \n",
    "\n",
    "For further exploration, we plot for each variable."
   ]
  },
  {
   "cell_type": "code",
   "execution_count": 87,
   "metadata": {
    "vscode": {
     "languageId": "r"
    }
   },
   "outputs": [
    {
     "data": {
      "image/png": "[encoded data removed]",
      "text/plain": [
       "plot without title"
      ]
     },
     "metadata": {
      "image/png": {
       "height": 360,
       "width": 390
      }
     },
     "output_type": "display_data"
    }
   ],
   "source": [
    "ggplot(data_clean, aes(x = RiskLevel, y = Age, fill = RiskLevel)) +\n",
    "  geom_boxplot() +\n",
    "  theme_minimal() +\n",
    "  labs(\n",
    "    title = \"Figure 1: Age Distribution by Risk Level\", \n",
    "    x = \"Risk Level\",\n",
    "    y = \"Age\"\n",
    "  ) +\n",
    "  theme(plot.title = element_text(hjust = 0.5, face = \"bold\"))"
   ]
  },
  {
   "cell_type": "markdown",
   "metadata": {},
   "source": [
    "Since the target classes seem relatively balanced, it would be appropiate to use **accuracy** as the main scoring metric. Accuracy is given by the number correct prediction out of all predictions made"
   ]
  },
  {
   "cell_type": "markdown",
   "metadata": {},
   "source": [
    "#### Correlation Matrix\n",
    "\n",
    "All of the variables have a positive correlation with RiskLevel, indicating that increases in these variables generally correspond to a higher maternal health risk. BS (Blood Sugar level) has the strongest correlation of 0.57, suggesting it is likely to be the most influential factor. We thought age would have a stronger correlation with RiskLevel, however, systolic blood pressure and diastolic blood pressure seems to have a stronger correlation with RiskLevel than age. \n",
    "\n",
    "These findings may be a possible reason for the outliers observed above. Younger individuals with high blood pressures or sugar levels may be classified into higher risk levels. This indicates the importance of other factors."
   ]
  },
  {
   "cell_type": "code",
   "execution_count": 88,
   "metadata": {
    "vscode": {
     "languageId": "r"
    }
   },
   "outputs": [
    {
     "data": {
      "image/png": "[encoded data removed]",
      "text/plain": [
       "Plot with title \"\""
      ]
     },
     "metadata": {
      "image/png": {
       "height": 360,
       "width": 390
      }
     },
     "output_type": "display_data"
    },
    {
     "data": {
      "image/png": "[encoded data removed]",
      "text/plain": [
       "Plot with title \"\""
      ]
     },
     "metadata": {
      "image/png": {
       "height": 360,
       "width": 390
      }
     },
     "output_type": "display_data"
    }
   ],
   "source": [
    "# Temporarily change RiskLevel to numerical values (3 = high risk, 2 = mid risk, 1 = low risk)\n",
    "data_numeric <- data_clean %>%\n",
    "  mutate(RiskLevel_numeric = as.numeric(RiskLevel)) %>%\n",
    "  select(-RiskLevel)\n",
    "\n",
    "cor_matrix <- cor(data_numeric)\n",
    "\n",
    "options(repr.plot.width=6.5, repr.plot.height=6) \n",
    "\n",
    "corrplot(cor_matrix, method = \"ellipse\", type = \"upper\", tl.cex = 0.8, tl.col = \"black\",\n",
    "    col = colorRampPalette(c(\"red\", \"grey\", \"blue\"))(200))\n",
    "mtext(\"Figure 2b: Correlation Matrix\", side = 3, line = 3, cex = 1.5, font = 2)\n",
    "\n",
    "\n",
    "corrplot(cor_matrix, method = \"number\", type = \"upper\", number.cex = 1.5, tl.cex = 0.8, tl.col = \"black\",\n",
    "    col = colorRampPalette(c(\"red\", \"grey\", \"blue\"))(200))\n",
    "mtext(\"Figure 2b: Correlation Matrix Values\", side = 3, line = 3, cex = 1.5, font = 2)\n"
   ]
  },
  {
   "cell_type": "markdown",
   "metadata": {},
   "source": [
    "## Classification Model Building\n",
    "\n",
    "### Train/Test Splitting"
   ]
  },
  {
   "cell_type": "code",
   "execution_count": 89,
   "metadata": {
    "vscode": {
     "languageId": "r"
    }
   },
   "outputs": [
    {
     "data": {
      "text/html": [
       "<style>\n",
       ".list-inline {list-style: none; margin:0; padding: 0}\n",
       ".list-inline>li {display: inline-block}\n",
       ".list-inline>li:not(:last-child)::after {content: \"\\00b7\"; padding: 0 .5ex}\n",
       "</style>\n",
       "<ol class=list-inline><li>812</li><li>7</li></ol>\n"
      ],
      "text/latex": [
       "\\begin{enumerate*}\n",
       "\\item 812\n",
       "\\item 7\n",
       "\\end{enumerate*}\n"
      ],
      "text/markdown": [
       "1. 812\n",
       "2. 7\n",
       "\n",
       "\n"
      ],
      "text/plain": [
       "[1] 812   7"
      ]
     },
     "metadata": {},
     "output_type": "display_data"
    },
    {
     "data": {
      "text/html": [
       "<style>\n",
       ".list-inline {list-style: none; margin:0; padding: 0}\n",
       ".list-inline>li {display: inline-block}\n",
       ".list-inline>li:not(:last-child)::after {content: \"\\00b7\"; padding: 0 .5ex}\n",
       "</style>\n",
       "<ol class=list-inline><li>202</li><li>7</li></ol>\n"
      ],
      "text/latex": [
       "\\begin{enumerate*}\n",
       "\\item 202\n",
       "\\item 7\n",
       "\\end{enumerate*}\n"
      ],
      "text/markdown": [
       "1. 202\n",
       "2. 7\n",
       "\n",
       "\n"
      ],
      "text/plain": [
       "[1] 202   7"
      ]
     },
     "metadata": {},
     "output_type": "display_data"
    }
   ],
   "source": [
    "set.seed(123)\n",
    "\n",
    "# Create an 80% training and 20% testing split\n",
    "train_index <- createDataPartition(data_clean$RiskLevel, p = 0.8, list = FALSE)\n",
    "\n",
    "# Subset data into training and testing sets\n",
    "train_data <- data_clean[train_index, ]\n",
    "test_data  <- data_clean[-train_index, ]\n",
    "\n",
    "dim(train_data)\n",
    "dim(test_data)"
   ]
  },
  {
   "cell_type": "markdown",
   "metadata": {},
   "source": [
    "### Baseline (Majority class) classification model"
   ]
  },
  {
   "cell_type": "code",
   "execution_count": 90,
   "metadata": {
    "vscode": {
     "languageId": "r"
    }
   },
   "outputs": [
    {
     "name": "stdout",
     "output_type": "stream",
     "text": [
      "[1] \"Majority Class Baseline Accuracy: 0.4009901\"\n"
     ]
    }
   ],
   "source": [
    "# Find the majority class in training data\n",
    "majority_class <- names(sort(table(train_data$RiskLevel), decreasing = TRUE))[1]\n",
    "\n",
    "# Predict the majority class for all test samples\n",
    "majority_predictions <- rep(majority_class, nrow(test_data))\n",
    "\n",
    "# Evaluate accuracy\n",
    "majority_accuracy <- mean(majority_predictions == test_data$RiskLevel)\n",
    "print(paste(\"Majority Class Baseline Accuracy:\", round(majority_accuracy, 7)))"
   ]
  },
  {
   "cell_type": "markdown",
   "metadata": {},
   "source": [
    "### Multinomial Logistic regression"
   ]
  },
  {
   "cell_type": "code",
   "execution_count": 91,
   "metadata": {
    "vscode": {
     "languageId": "r"
    }
   },
   "outputs": [
    {
     "name": "stdout",
     "output_type": "stream",
     "text": [
      "# weights:  24 (14 variable)\n"
     ]
    },
    {
     "name": "stdout",
     "output_type": "stream",
     "text": [
      "initial  value 892.073178 \n",
      "iter  10 value 731.740084\n",
      "iter  20 value 651.225981\n",
      "iter  30 value 618.926897\n",
      "iter  40 value 618.918226\n",
      "iter  50 value 618.750052\n",
      "final  value 618.748469 \n",
      "converged\n"
     ]
    },
    {
     "data": {
      "text/plain": [
       "Call:\n",
       "multinom(formula = RiskLevel ~ ., data = train_data)\n",
       "\n",
       "Coefficients:\n",
       "          (Intercept)          Age SystolicBP DiastolicBP        BS  BodyTemp\n",
       "mid risk    -51.45546 -0.003381834 0.06674558 -0.04451933 0.3392350 0.4283579\n",
       "high risk  -102.69736 -0.022647143 0.07188222  0.01910705 0.7532347 0.8265515\n",
       "           HeartRate\n",
       "mid risk  0.03462081\n",
       "high risk 0.07073450\n",
       "\n",
       "Std. Errors:\n",
       "           (Intercept)         Age  SystolicBP DiastolicBP         BS\n",
       "mid risk  0.0001767925 0.007943439 0.008090217  0.01065454 0.08396116\n",
       "high risk 0.0001486341 0.012346374 0.011886866  0.01509759 0.08939212\n",
       "            BodyTemp  HeartRate\n",
       "mid risk  0.01314433 0.01283421\n",
       "high risk 0.01702684 0.01643069\n",
       "\n",
       "Residual Deviance: 1237.497 \n",
       "AIC: 1265.497 "
      ]
     },
     "metadata": {},
     "output_type": "display_data"
    }
   ],
   "source": [
    "multinom_logistic <- multinom(RiskLevel ~ ., data = train_data)\n",
    "\n",
    "summary(multinom_logistic)"
   ]
  },
  {
   "cell_type": "code",
   "execution_count": 92,
   "metadata": {
    "vscode": {
     "languageId": "r"
    }
   },
   "outputs": [
    {
     "data": {
      "text/html": [
       "<style>\n",
       ".list-inline {list-style: none; margin:0; padding: 0}\n",
       ".list-inline>li {display: inline-block}\n",
       ".list-inline>li:not(:last-child)::after {content: \"\\00b7\"; padding: 0 .5ex}\n",
       "</style>\n",
       "<ol class=list-inline><li>high risk</li><li>low risk</li><li>mid risk</li><li>low risk</li><li>low risk</li><li>low risk</li></ol>\n",
       "\n",
       "<details>\n",
       "\t<summary style=display:list-item;cursor:pointer>\n",
       "\t\t<strong>Levels</strong>:\n",
       "\t</summary>\n",
       "\t<style>\n",
       "\t.list-inline {list-style: none; margin:0; padding: 0}\n",
       "\t.list-inline>li {display: inline-block}\n",
       "\t.list-inline>li:not(:last-child)::after {content: \"\\00b7\"; padding: 0 .5ex}\n",
       "\t</style>\n",
       "\t<ol class=list-inline><li>'low risk'</li><li>'mid risk'</li><li>'high risk'</li></ol>\n",
       "</details>"
      ],
      "text/latex": [
       "\\begin{enumerate*}\n",
       "\\item high risk\n",
       "\\item low risk\n",
       "\\item mid risk\n",
       "\\item low risk\n",
       "\\item low risk\n",
       "\\item low risk\n",
       "\\end{enumerate*}\n",
       "\n",
       "\\emph{Levels}: \\begin{enumerate*}\n",
       "\\item 'low risk'\n",
       "\\item 'mid risk'\n",
       "\\item 'high risk'\n",
       "\\end{enumerate*}\n"
      ],
      "text/markdown": [
       "1. high risk\n",
       "2. low risk\n",
       "3. mid risk\n",
       "4. low risk\n",
       "5. low risk\n",
       "6. low risk\n",
       "\n",
       "\n",
       "\n",
       "**Levels**: 1. 'low risk'\n",
       "2. 'mid risk'\n",
       "3. 'high risk'\n",
       "\n",
       "\n"
      ],
      "text/plain": [
       "[1] high risk low risk  mid risk  low risk  low risk  low risk \n",
       "Levels: low risk mid risk high risk"
      ]
     },
     "metadata": {},
     "output_type": "display_data"
    },
    {
     "name": "stdout",
     "output_type": "stream",
     "text": [
      "\n",
      "\u001b[1mTable 3: Predicted Probabilities for Test\u001b[0m\n",
      "\n"
     ]
    },
    {
     "data": {
      "text/html": [
       "<table class=\"dataframe\">\n",
       "<caption>A matrix: 6 × 3 of type dbl</caption>\n",
       "<thead>\n",
       "\t<tr><th></th><th scope=col>low risk</th><th scope=col>mid risk</th><th scope=col>high risk</th></tr>\n",
       "</thead>\n",
       "<tbody>\n",
       "\t<tr><th scope=row>1</th><td>0.00227716</td><td>0.08505357</td><td>0.91266927</td></tr>\n",
       "\t<tr><th scope=row>2</th><td>0.49794075</td><td>0.35319560</td><td>0.14886365</td></tr>\n",
       "\t<tr><th scope=row>3</th><td>0.38120326</td><td>0.59430812</td><td>0.02448862</td></tr>\n",
       "\t<tr><th scope=row>4</th><td>0.52108173</td><td>0.38810710</td><td>0.09081117</td></tr>\n",
       "\t<tr><th scope=row>5</th><td>0.68201782</td><td>0.21871018</td><td>0.09927200</td></tr>\n",
       "\t<tr><th scope=row>6</th><td>0.75971265</td><td>0.21579223</td><td>0.02449511</td></tr>\n",
       "</tbody>\n",
       "</table>\n"
      ],
      "text/latex": [
       "A matrix: 6 × 3 of type dbl\n",
       "\\begin{tabular}{r|lll}\n",
       "  & low risk & mid risk & high risk\\\\\n",
       "\\hline\n",
       "\t1 & 0.00227716 & 0.08505357 & 0.91266927\\\\\n",
       "\t2 & 0.49794075 & 0.35319560 & 0.14886365\\\\\n",
       "\t3 & 0.38120326 & 0.59430812 & 0.02448862\\\\\n",
       "\t4 & 0.52108173 & 0.38810710 & 0.09081117\\\\\n",
       "\t5 & 0.68201782 & 0.21871018 & 0.09927200\\\\\n",
       "\t6 & 0.75971265 & 0.21579223 & 0.02449511\\\\\n",
       "\\end{tabular}\n"
      ],
      "text/markdown": [
       "\n",
       "A matrix: 6 × 3 of type dbl\n",
       "\n",
       "| <!--/--> | low risk | mid risk | high risk |\n",
       "|---|---|---|---|\n",
       "| 1 | 0.00227716 | 0.08505357 | 0.91266927 |\n",
       "| 2 | 0.49794075 | 0.35319560 | 0.14886365 |\n",
       "| 3 | 0.38120326 | 0.59430812 | 0.02448862 |\n",
       "| 4 | 0.52108173 | 0.38810710 | 0.09081117 |\n",
       "| 5 | 0.68201782 | 0.21871018 | 0.09927200 |\n",
       "| 6 | 0.75971265 | 0.21579223 | 0.02449511 |\n",
       "\n"
      ],
      "text/plain": [
       "  low risk   mid risk   high risk \n",
       "1 0.00227716 0.08505357 0.91266927\n",
       "2 0.49794075 0.35319560 0.14886365\n",
       "3 0.38120326 0.59430812 0.02448862\n",
       "4 0.52108173 0.38810710 0.09081117\n",
       "5 0.68201782 0.21871018 0.09927200\n",
       "6 0.75971265 0.21579223 0.02449511"
      ]
     },
     "metadata": {},
     "output_type": "display_data"
    }
   ],
   "source": [
    "test_predictions <- predict(multinom_logistic, newdata = test_data)\n",
    "\n",
    "# predict probabilities\n",
    "test_probabilities <- predict(multinom_logistic, newdata = test_data, type = \"probs\")\n",
    "head(test_predictions)\n",
    "cat(\"\\n\\033[1mTable 3: Predicted Probabilities for Test\\033[0m\\n\\n\")\n",
    "head(test_probabilities)"
   ]
  },
  {
   "cell_type": "code",
   "execution_count": 93,
   "metadata": {
    "vscode": {
     "languageId": "r"
    }
   },
   "outputs": [
    {
     "name": "stdout",
     "output_type": "stream",
     "text": [
      "\n",
      "\u001b[1mTable 4: Confusion Matrix\u001b[0m\n",
      "\n"
     ]
    },
    {
     "data": {
      "text/html": [
       "<table class=\"dataframe\">\n",
       "<caption>A grouped_df: 9 × 4</caption>\n",
       "<thead>\n",
       "\t<tr><th scope=col>True</th><th scope=col>Predicted</th><th scope=col>Frequency</th><th scope=col>Percentage</th></tr>\n",
       "\t<tr><th scope=col>&lt;fct&gt;</th><th scope=col>&lt;fct&gt;</th><th scope=col>&lt;int&gt;</th><th scope=col>&lt;dbl&gt;</th></tr>\n",
       "</thead>\n",
       "<tbody>\n",
       "\t<tr><td>low risk </td><td>low risk </td><td>62</td><td>58.5</td></tr>\n",
       "\t<tr><td>mid risk </td><td>low risk </td><td>16</td><td>42.1</td></tr>\n",
       "\t<tr><td>high risk</td><td>low risk </td><td> 3</td><td> 5.2</td></tr>\n",
       "\t<tr><td>low risk </td><td>mid risk </td><td>41</td><td>38.7</td></tr>\n",
       "\t<tr><td>mid risk </td><td>mid risk </td><td>13</td><td>34.2</td></tr>\n",
       "\t<tr><td>high risk</td><td>mid risk </td><td>13</td><td>22.4</td></tr>\n",
       "\t<tr><td>low risk </td><td>high risk</td><td> 3</td><td> 2.8</td></tr>\n",
       "\t<tr><td>mid risk </td><td>high risk</td><td> 9</td><td>23.7</td></tr>\n",
       "\t<tr><td>high risk</td><td>high risk</td><td>42</td><td>72.4</td></tr>\n",
       "</tbody>\n",
       "</table>\n"
      ],
      "text/latex": [
       "A grouped\\_df: 9 × 4\n",
       "\\begin{tabular}{llll}\n",
       " True & Predicted & Frequency & Percentage\\\\\n",
       " <fct> & <fct> & <int> & <dbl>\\\\\n",
       "\\hline\n",
       "\t low risk  & low risk  & 62 & 58.5\\\\\n",
       "\t mid risk  & low risk  & 16 & 42.1\\\\\n",
       "\t high risk & low risk  &  3 &  5.2\\\\\n",
       "\t low risk  & mid risk  & 41 & 38.7\\\\\n",
       "\t mid risk  & mid risk  & 13 & 34.2\\\\\n",
       "\t high risk & mid risk  & 13 & 22.4\\\\\n",
       "\t low risk  & high risk &  3 &  2.8\\\\\n",
       "\t mid risk  & high risk &  9 & 23.7\\\\\n",
       "\t high risk & high risk & 42 & 72.4\\\\\n",
       "\\end{tabular}\n"
      ],
      "text/markdown": [
       "\n",
       "A grouped_df: 9 × 4\n",
       "\n",
       "| True &lt;fct&gt; | Predicted &lt;fct&gt; | Frequency &lt;int&gt; | Percentage &lt;dbl&gt; |\n",
       "|---|---|---|---|\n",
       "| low risk  | low risk  | 62 | 58.5 |\n",
       "| mid risk  | low risk  | 16 | 42.1 |\n",
       "| high risk | low risk  |  3 |  5.2 |\n",
       "| low risk  | mid risk  | 41 | 38.7 |\n",
       "| mid risk  | mid risk  | 13 | 34.2 |\n",
       "| high risk | mid risk  | 13 | 22.4 |\n",
       "| low risk  | high risk |  3 |  2.8 |\n",
       "| mid risk  | high risk |  9 | 23.7 |\n",
       "| high risk | high risk | 42 | 72.4 |\n",
       "\n"
      ],
      "text/plain": [
       "  True      Predicted Frequency Percentage\n",
       "1 low risk  low risk  62        58.5      \n",
       "2 mid risk  low risk  16        42.1      \n",
       "3 high risk low risk   3         5.2      \n",
       "4 low risk  mid risk  41        38.7      \n",
       "5 mid risk  mid risk  13        34.2      \n",
       "6 high risk mid risk  13        22.4      \n",
       "7 low risk  high risk  3         2.8      \n",
       "8 mid risk  high risk  9        23.7      \n",
       "9 high risk high risk 42        72.4      "
      ]
     },
     "metadata": {},
     "output_type": "display_data"
    },
    {
     "data": {
      "image/png": "[encoded data removed]",
      "text/plain": [
       "plot without title"
      ]
     },
     "metadata": {
      "image/png": {
       "height": 360,
       "width": 390
      }
     },
     "output_type": "display_data"
    }
   ],
   "source": [
    "conf_matrix <- confusionMatrix(as.factor(test_predictions), as.factor(test_data$RiskLevel))\n",
    "\n",
    "cm_table <- as.data.frame(conf_matrix$table)\n",
    "\n",
    "colnames(cm_table) <- c(\"True\", \"Predicted\", \"Frequency\")\n",
    "\n",
    "cm_table <- cm_table %>%\n",
    "  group_by(True) %>%\n",
    "  mutate(Percentage = round((Frequency / sum(Frequency)) * 100, 1))  # Round to 1 decimal place\n",
    "cat(\"\\n\\033[1mTable 4: Confusion Matrix\\033[0m\\n\\n\")\n",
    "cm_table\n",
    "\n",
    "cm_visualization <- ggplot(cm_table, aes(x = True, y = Predicted, fill = Frequency)) +\n",
    "  geom_tile(color = \"black\") +  # Draw tiles\n",
    "  geom_text(aes(label = paste0(Frequency, \"\\n(\", Percentage, \"%)\")), color = \"white\", size = 5) +  # Add labels\n",
    "  scale_fill_gradient(low = \"lightblue\", high = \"darkblue\") +  # Color scale\n",
    "  labs(title = \"Figure 3: Confusion Matrix with Frequencies and Percentages\",\n",
    "       x = \"True Label\", y = \"Predicted Label\") +\n",
    "  theme_minimal() +\n",
    "  theme(plot.title = element_text(hjust = 0.5, face = \"bold\"))\n",
    "\n",
    "cm_visualization"
   ]
  },
  {
   "cell_type": "code",
   "execution_count": 94,
   "metadata": {
    "vscode": {
     "languageId": "r"
    }
   },
   "outputs": [
    {
     "name": "stdout",
     "output_type": "stream",
     "text": [
      " Accuracy \n",
      "0.5792079 \n"
     ]
    }
   ],
   "source": [
    "print(conf_matrix$overall[\"Accuracy\"])"
   ]
  },
  {
   "cell_type": "markdown",
   "metadata": {},
   "source": [
    "The multinomial logistic regression has only given us an slightly better accuracy than the baseline, a 0.1782178 better score than the baseline model "
   ]
  },
  {
   "cell_type": "markdown",
   "metadata": {
    "vscode": {
     "languageId": "r"
    }
   },
   "source": [
    "### Random Forest"
   ]
  },
  {
   "cell_type": "code",
   "execution_count": 95,
   "metadata": {
    "vscode": {
     "languageId": "r"
    }
   },
   "outputs": [
    {
     "name": "stdout",
     "output_type": "stream",
     "text": [
      "\n",
      "Call:\n",
      " randomForest(formula = RiskLevel ~ ., data = train_data, ntree = 500,      importance = TRUE) \n",
      "               Type of random forest: classification\n",
      "                     Number of trees: 500\n",
      "No. of variables tried at each split: 2\n",
      "\n",
      "        OOB estimate of  error rate: 16.38%\n",
      "Confusion matrix:\n",
      "          low risk mid risk high risk class.error\n",
      "low risk       267       50         8  0.17846154\n",
      "mid risk        40      213        16  0.20817844\n",
      "high risk        6       13       199  0.08715596\n"
     ]
    }
   ],
   "source": [
    "rf_model <- randomForest(RiskLevel ~ ., data = train_data, ntree = 500, importance = TRUE)\n",
    "print(rf_model)"
   ]
  },
  {
   "cell_type": "markdown",
   "metadata": {},
   "source": [
    "Here are the parameters that have been passed through the randomForest object:\n",
    "- `RiskLevel ~ .`: Predicts RiskLevel based on all other features\n",
    "- `ntree = 500`: Uses 500 trees in the forest\n",
    "- `importance` = TRUE: Computes feature importance\n",
    "\n",
    "Now that the model is trained using our train set. Let's make predictions on the test set"
   ]
  },
  {
   "cell_type": "code",
   "execution_count": 96,
   "metadata": {
    "vscode": {
     "languageId": "r"
    }
   },
   "outputs": [
    {
     "data": {
      "text/plain": [
       "           Actual\n",
       "Predicted   low risk mid risk high risk\n",
       "  low risk        69       17         2\n",
       "  mid risk         9       45         2\n",
       "  high risk        3        5        50"
      ]
     },
     "metadata": {},
     "output_type": "display_data"
    }
   ],
   "source": [
    "predictions <- predict(rf_model, test_data)\n",
    "table(Predicted = predictions, Actual = test_data$RiskLevel)  # Confusion matrix\n"
   ]
  },
  {
   "cell_type": "markdown",
   "metadata": {},
   "source": [
    "To see how accurate the model is, we will compute the accuracy"
   ]
  },
  {
   "cell_type": "code",
   "execution_count": 99,
   "metadata": {
    "vscode": {
     "languageId": "r"
    }
   },
   "outputs": [
    {
     "name": "stdout",
     "output_type": "stream",
     "text": [
      "[1] \"Accuracy: 0.8118812\"\n"
     ]
    }
   ],
   "source": [
    "accuracy <- sum(predictions == test_data$RiskLevel) / nrow(test_data)\n",
    "print(paste(\"Accuracy:\", round(accuracy, 7)))\n"
   ]
  },
  {
   "cell_type": "markdown",
   "metadata": {},
   "source": [
    "Random Forest has yielded 0.8118812 score. 0.2326733 better accuracy than the multinomial logistic regression and 0.4108911 better accuracy than the baseline model"
   ]
  },
  {
   "cell_type": "markdown",
   "metadata": {},
   "source": [
    "---"
   ]
  },
  {
   "cell_type": "markdown",
   "metadata": {},
   "source": [
    "## Discussion\n"
   ]
  },
  {
   "cell_type": "code",
   "execution_count": 103,
   "metadata": {
    "vscode": {
     "languageId": "r"
    }
   },
   "outputs": [
    {
     "name": "stderr",
     "output_type": "stream",
     "text": [
      "Warning message in geom_histogram(stat = \"identity\"):\n",
      "\"\u001b[1m\u001b[22mIgnoring unknown parameters: `binwidth`, `bins`, and `pad`\"\n"
     ]
    },
    {
     "data": {
      "image/png": "[encoded data removed]",
      "text/plain": [
       "plot without title"
      ]
     },
     "metadata": {
      "image/png": {
       "height": 360,
       "width": 390
      }
     },
     "output_type": "display_data"
    }
   ],
   "source": [
    "model_results <- data.frame(\n",
    "  Model = c(\"Baseline model\", \"Multinomial Logistic\", \"Random Forest\"),\n",
    "  Accuracy = c(0.40, 0.58, 0.81)  # Example accuracy values\n",
    ")\n",
    "\n",
    "# Convert Accuracy to percentage\n",
    "model_results$Accuracy <- model_results$Accuracy * 100\n",
    "\n",
    "ggplot(model_results, aes(x = Model, y = Accuracy, fill = Model)) +\n",
    "  geom_histogram(stat = \"identity\") +  # Create bar chart\n",
    "  labs(title = \"Model Accuracy Comparison\", x = \"Model Type\", y = \"Accuracy (%)\") +\n",
    "  theme_minimal() +\n",
    "  theme(axis.text.x = element_text(angle = 45, hjust = 1))  # Rotate labels if needed\n"
   ]
  },
  {
   "cell_type": "markdown",
   "metadata": {},
   "source": [
    "- summarize what you found\n",
    "- discuss whether this is what you expected to find?\n",
    "- discuss what impact could such findings have?\n",
    "- discuss what future questions could this lead to?"
   ]
  },
  {
   "cell_type": "markdown",
   "metadata": {},
   "source": [
    "---"
   ]
  },
  {
   "cell_type": "markdown",
   "metadata": {},
   "source": [
    "## References"
   ]
  },
  {
   "cell_type": "markdown",
   "metadata": {},
   "source": [
    "Ahmed, M. (2020). Maternal Health Risk [Dataset]. UCI Machine Learning Repository. https://doi.org/10.24432/C5DP5D.\n",
    "\n",
    "Bajaj, D., Kumari, R., & Bansal, P. (2023). Risk level prediction for maternal health using machine learning algorithms. 2023 International Conference on Communication, Security and Artificial Intelligence (ICCSAI), 405–409. https://doi.org/10.1109/iccsai59793.2023.10421156 \n",
    "\n",
    "Mu, C., Yan, Z., & Zhu, Y. (2023). Prediction of maternal health risk based on physiological indicators. Proceedings of the 2023 4th International Symposium on Artificial Intelligence for Medicine Science, 578–584. https://doi.org/10.1145/3644116.3644212 \n",
    "\n",
    "Ukrit, M. F., Jeyavathana, R. B., Rani, A. L., & Chandana, V. (2024). Maternal health risk prediction with machine learning methods. 2024 Second International Conference on Emerging Trends in Information Technology and Engineering (ICETITE), 1–9. https://doi.org/10.1109/ic-etite58242.2024.10493737 \n",
    "\n",
    "World Health Organization. (2024, April 26). Maternal mortality. World Health Organization. https://www.who.int/news-room/fact-sheets/detail/maternal-mortality \n",
    "\n",
    "World Health Organization. (2025). Maternal health. World Health Organization. https://www.who.int/health-topics/maternal-health#tab=tab_1 "
   ]
  },
  {
   "cell_type": "markdown",
   "metadata": {},
   "source": []
  }
 ],
 "metadata": {
  "kernelspec": {
   "display_name": "R",
   "language": "R",
   "name": "ir"
  },
  "language_info": {
   "codemirror_mode": "r",
   "file_extension": ".r",
   "mimetype": "text/x-r-source",
   "name": "R",
   "pygments_lexer": "r",
   "version": "4.4.1"
  }
 },
 "nbformat": 4,
 "nbformat_minor": 4
}
